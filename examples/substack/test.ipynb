{
 "cells": [
  {
   "cell_type": "code",
   "execution_count": null,
   "metadata": {},
   "outputs": [],
   "source": [
    "pip install cx-copilot"
   ]
  },
  {
   "cell_type": "code",
   "execution_count": 8,
   "metadata": {},
   "outputs": [],
   "source": [
    "from cx_copilot import OpenAIEmbeddingBlock, PineconeVectorDBBlock, GPTCompletionBlock, CXCopilot\n",
    "\n",
    "embedding = OpenAIEmbeddingBlock(open_ai_key='YOUR_OPENAI_KEY')\n",
    "database = PineconeVectorDBBlock(\"YOUR_PINECONE_KEY\", \"YOUR_PINECONE_DATACENTER\")\n",
    "gpt = GPTCompletionBlock(open_ai_key = 'YOUR_OPENAI_KEY')"
   ]
  },
  {
   "cell_type": "code",
   "execution_count": 10,
   "metadata": {},
   "outputs": [],
   "source": [
    "def summarize_ticket(ticket):\n",
    "    prompt_ticket_summarize = \"\"\"ticket: Hey, I am a substack writer for over a year and a big fan of the platform. Even though my Substack is paid, I would like to offer free subscriptions to some of my users like college students. Can you help me with that?\n",
    "    question: How do I offer free subscriptions to some of my users like college students?\n",
    "\n",
    "    ticket: Hello, I am the writer of a substack called Political Polarization and a bunch of readers are public policy students. I think it would be great for me to conduct a poll among my readers to see what kind of topics they want me to cover in the upcoming versions of Substack. Can you show me how to do that in my next Substack?\n",
    "    question: How do I add a poll for my readers in my Substack?\n",
    "\n",
    "    ticket: Hi there, I am a big reader on the substack platform and a fan of a bunch of writers who write here. Unfortunately, I am running on a tight budget as I am in between jobs and would like to temporarily cancel my subscription. Can you help me with that?\n",
    "    question: How can I pause a subscription?\n",
    "\n",
    "    ticket: {ticket}\n",
    "    question:\"\"\".format(ticket=ticket)\n",
    "\n",
    "    return gpt.get_completion(prompt=prompt_ticket_summarize, max_tokens=100, temperature=0.3)"
   ]
  },
  {
   "cell_type": "code",
   "execution_count": 11,
   "metadata": {},
   "outputs": [],
   "source": [
    "def create_hypothetical_answer(question):\n",
    "    prompt_hypothetical_answer = \"\"\"Write a passage to answer the following question from a user:\n",
    "    Question: {question}\n",
    "    Answer: \"\"\".format(question=question)\n",
    "\n",
    "    return gpt.get_completion(prompt=prompt_hypothetical_answer, max_tokens=400, temperature=0.5)"
   ]
  },
  {
   "cell_type": "code",
   "execution_count": 12,
   "metadata": {},
   "outputs": [],
   "source": [
    "def answer_ticket(question=\"\", relevant_info=\"\"):\n",
    "    prompt_ticket_answer = \"\"\" You are a  customer support agent for a company called Substack. Substack lets independent writers and podcasters publish directly to their audience and get paid through subscriptions.\n",
    "    Answer the following Question based the relevant information provided to you. Make sure your answer has a friendly tone. \n",
    "    Please answer the question truthfully and accurately using the relevant information provided. If you do not have enough information to answer the question, please ask the user for more information that would help you answer the question.\n",
    "    Question: {question}\n",
    "\n",
    "    Relevant Information:\n",
    "    {relevant_info}\n",
    "\n",
    "    Answer:\"\"\".format(question=question, relevant_info=relevant_info)\n",
    "\n",
    "    return gpt.get_completion(prompt=prompt_ticket_answer, max_tokens=500, temperature=0.1)"
   ]
  },
  {
   "cell_type": "code",
   "execution_count": 13,
   "metadata": {},
   "outputs": [],
   "source": [
    "def get_relevant_information(question, hypothetical_answer):\n",
    "    embedded_question = embedding.embed_text(question)\n",
    "    top_k_question = database.lookup(embedded_question, 'substack-answers', top_k=2).ClosestEmbeddings\n",
    "\n",
    "    embedded_answer = embedding.embed_text(hypothetical_answer)\n",
    "    top_k_answer = database.lookup(embedded_answer, 'substack-answers', top_k=2).ClosestEmbeddings\n",
    "\n",
    "    return {\n",
    "        \"Example_1\" : {\n",
    "            \"Score\": top_k_question[0].score,\n",
    "            \"Question\" : top_k_question[0].metadata['question'],\n",
    "            \"Answer\": top_k_question[0].metadata['value']\n",
    "        },\n",
    "        \"Example_2\" : {\n",
    "            \"Score\": top_k_question[1].score,\n",
    "            \"Question\" : top_k_question[1].metadata['question'],\n",
    "            \"Answer\": top_k_question[1].metadata['value']\n",
    "        },\n",
    "        \"Example_3\" : {\n",
    "            \"Score\": top_k_answer[0].score,\n",
    "            \"Question\" : top_k_answer[0].metadata['question'],\n",
    "            \"Answer\": top_k_answer[0].metadata['value']\n",
    "        },\n",
    "        \"Example_4\" : {\n",
    "            \"Score\": top_k_answer[1].score,\n",
    "            \"Question\" : top_k_answer[1].metadata['question'],\n",
    "            \"Answer\": top_k_answer[1].metadata['value']\n",
    "        }\n",
    "    }\n"
   ]
  },
  {
   "cell_type": "code",
   "execution_count": 18,
   "metadata": {},
   "outputs": [],
   "source": [
    "def print_relevant_information(relevant_info):\n",
    "    print(\"\\n [1]: \")\n",
    "    print(\"Score: \", relevant_info['Example_1']['Score'])\n",
    "    print(\"Question: \", relevant_info['Example_1']['Question'])\n",
    "    print(\"Answer: \", relevant_info['Example_1']['Answer'])\n",
    "    print(\"\\n [2]: \")\n",
    "    print(\"Score: \", relevant_info['Example_2']['Score'])\n",
    "    print(\"Question: \", relevant_info['Example_2']['Question'])\n",
    "    print(\"Answer: \", relevant_info['Example_2']['Answer'])\n",
    "    print(\"\\n [3]: \")\n",
    "    print(\"Score: \", relevant_info['Example_3']['Score'])\n",
    "    print(\"Question: \", relevant_info['Example_3']['Question'])\n",
    "    print(\"Answer: \", relevant_info['Example_3']['Answer'])\n",
    "    print(\"\\n [4]: \")\n",
    "    print(\"Score: \", relevant_info['Example_4']['Score'])\n",
    "    print(\"Question: \", relevant_info['Example_4']['Question'])\n",
    "    print(\"Answer: \", relevant_info['Example_4']['Answer'])"
   ]
  },
  {
   "cell_type": "code",
   "execution_count": 19,
   "metadata": {},
   "outputs": [
    {
     "name": "stdout",
     "output_type": "stream",
     "text": [
      "Answer:   Hi there! You can offer complimentary paid subscriptions to college students from your publication's Settings page. \n",
      "    1. Scroll down to the Payments section and next to \"Give away paid subscription for free\", select \"Add subscribers\". \n",
      "    2. Enter the email address of the college student you'd like to give a complimentary paid subscription to and select the length of their subscription. You can also add a list of emails to import multiple subscribers at once. \n",
      "    3. Click \"Add\" and they'll be automatically added as a subscriber to your publication. \n",
      "    If you have any other questions, please let me know.\n",
      "\n",
      " [1]: \n",
      "Score:  0.85459882\n",
      "Question:  How do I offer a complimentary subscription to a reader?\n",
      "Answer:  You can offer complimentary paid subscriptions to readers from your publication's Settings page.\n",
      "\n",
      "1. Scroll down to the Payments section and next to \"Give away paid subscription for free\", select \"Add subscribers\".\n",
      "\n",
      "2. Enter the email address of the reader you'd like to give a complimentary paid subscription to and select the length of their subscription. You can also add a list of emails to import multiple subscribers at once.\n",
      "\n",
      "3. Click \"Add\" and they'll be automatically added as a subscriber to your publication.\n",
      "\n",
      " [2]: \n",
      "Score:  0.838856876\n",
      "Question:  How do I offer a free trial to my publication?\n",
      "Answer:  Interested in offering a free trial to your publication? Follow these steps to to create a unique link that you can share with your readers.\n",
      "\n",
      "1. Log in to your account and navigate to your Settings page.\n",
      "\n",
      "2. Scroll down to the \"Set up paid subscriptions\" section and next to \"Special offers\" click on Manage.\n",
      "\n",
      "3. Select \"New special offer\".\n",
      "\n",
      "4. Under \"Terms\", choose \"Free trial\" and fill out details such as the special offer name and description.\n",
      "\n",
      "5. When you're ready, click \"Create offer\" and a unique link will be generated.\n",
      "\n",
      "Copy link will automatically copy the URL to your clipboard.\n",
      "Send by email will create a new draft post which you can publish and send via email to your readers.\n",
      "\n",
      " [3]: \n",
      "Score:  0.857947588\n",
      "Question:  How do I offer a complimentary subscription to a reader?\n",
      "Answer:  You can offer complimentary paid subscriptions to readers from your publication's Settings page.\n",
      "\n",
      "1. Scroll down to the Payments section and next to \"Give away paid subscription for free\", select \"Add subscribers\".\n",
      "\n",
      "2. Enter the email address of the reader you'd like to give a complimentary paid subscription to and select the length of their subscription. You can also add a list of emails to import multiple subscribers at once.\n",
      "\n",
      "3. Click \"Add\" and they'll be automatically added as a subscriber to your publication.\n",
      "\n",
      " [4]: \n",
      "Score:  0.85573107\n",
      "Question:  How do I offer a free trial to my publication?\n",
      "Answer:  Interested in offering a free trial to your publication? Follow these steps to to create a unique link that you can share with your readers.\n",
      "\n",
      "1. Log in to your account and navigate to your Settings page.\n",
      "\n",
      "2. Scroll down to the \"Set up paid subscriptions\" section and next to \"Special offers\" click on Manage.\n",
      "\n",
      "3. Select \"New special offer\".\n",
      "\n",
      "4. Under \"Terms\", choose \"Free trial\" and fill out details such as the special offer name and description.\n",
      "\n",
      "5. When you're ready, click \"Create offer\" and a unique link will be generated.\n",
      "\n",
      "Copy link will automatically copy the URL to your clipboard.\n",
      "Send by email will create a new draft post which you can publish and send via email to your readers.\n",
      "\n",
      "\n",
      " Citations:  None\n"
     ]
    }
   ],
   "source": [
    "ticket = \"How do I offer free subscriptions to some of my users like college students?\"\n",
    "\n",
    "summarized_ticket = summarize_ticket(ticket)\n",
    "hypothetical_answer = create_hypothetical_answer(summarized_ticket)\n",
    "relevant_info = get_relevant_information(summarized_ticket, hypothetical_answer)\n",
    "answer = answer_ticket(summarized_ticket, relevant_info)\n",
    "\n",
    "\n",
    "print(\"Answer: \", answer)\n",
    "\n",
    "print(\"\\n\\n Citations: \", print_relevant_information(relevant_info))"
   ]
  }
 ],
 "metadata": {
  "kernelspec": {
   "display_name": "Python 3.11.1 64-bit",
   "language": "python",
   "name": "python3"
  },
  "language_info": {
   "codemirror_mode": {
    "name": "ipython",
    "version": 3
   },
   "file_extension": ".py",
   "mimetype": "text/x-python",
   "name": "python",
   "nbconvert_exporter": "python",
   "pygments_lexer": "ipython3",
   "version": "3.11.1"
  },
  "orig_nbformat": 4,
  "vscode": {
   "interpreter": {
    "hash": "5c7b89af1651d0b8571dde13640ecdccf7d5a6204171d6ab33e7c296e100e08a"
   }
  }
 },
 "nbformat": 4,
 "nbformat_minor": 2
}
