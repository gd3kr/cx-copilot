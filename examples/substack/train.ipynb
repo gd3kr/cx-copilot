{
 "cells": [
  {
   "cell_type": "code",
   "execution_count": null,
   "metadata": {},
   "outputs": [],
   "source": [
    "pip install cx-copilot"
   ]
  },
  {
   "cell_type": "code",
   "execution_count": null,
   "metadata": {},
   "outputs": [],
   "source": [
    "!pip install pandas\n",
    "!pip install numpy\n",
    "!pip install -qU pip pinecone-client"
   ]
  },
  {
   "cell_type": "code",
   "execution_count": 24,
   "metadata": {},
   "outputs": [],
   "source": [
    "from cx_copilot import OpenAIEmbeddingBlock, PineconeVectorDBBlock, GPTCompletionBlock, CXCopilot\n",
    "import pandas as pd\n",
    "import numpy as np\n",
    "import pinecone\n",
    "import random\n",
    "import itertools\n",
    "\n",
    "embedding = OpenAIEmbeddingBlock(open_ai_key='YOUR_OPEN_AI_KEY')\n",
    "database = PineconeVectorDBBlock(\"PINECONE_KEY\", \"PINECONE_DATACENTER\")\n",
    "gpt = GPTCompletionBlock(open_ai_key = 'YOUR_OPEN_AI_KEY')"
   ]
  },
  {
   "cell_type": "code",
   "execution_count": 26,
   "metadata": {},
   "outputs": [
    {
     "name": "stdout",
     "output_type": "stream",
     "text": [
      "Columns:  Index(['Question', 'Answer'], dtype='object')\n",
      "Length:  374\n"
     ]
    },
    {
     "data": {
      "text/html": [
       "<div>\n",
       "<style scoped>\n",
       "    .dataframe tbody tr th:only-of-type {\n",
       "        vertical-align: middle;\n",
       "    }\n",
       "\n",
       "    .dataframe tbody tr th {\n",
       "        vertical-align: top;\n",
       "    }\n",
       "\n",
       "    .dataframe thead th {\n",
       "        text-align: right;\n",
       "    }\n",
       "</style>\n",
       "<table border=\"1\" class=\"dataframe\">\n",
       "  <thead>\n",
       "    <tr style=\"text-align: right;\">\n",
       "      <th></th>\n",
       "      <th>Question</th>\n",
       "      <th>Answer</th>\n",
       "    </tr>\n",
       "  </thead>\n",
       "  <tbody>\n",
       "    <tr>\n",
       "      <th>103</th>\n",
       "      <td>How do I import my mailing list from another p...</td>\n",
       "      <td>Have a list of emails you'd like to import to ...</td>\n",
       "    </tr>\n",
       "    <tr>\n",
       "      <th>70</th>\n",
       "      <td>Some things to keep in mind when using sections:</td>\n",
       "      <td>We recommend using sections for publishing new...</td>\n",
       "    </tr>\n",
       "    <tr>\n",
       "      <th>165</th>\n",
       "      <td>How can I add a guest author to a post?\\r</td>\n",
       "      <td>Have an author you've been collaborating with ...</td>\n",
       "    </tr>\n",
       "  </tbody>\n",
       "</table>\n",
       "</div>"
      ],
      "text/plain": [
       "                                              Question  \\\n",
       "103  How do I import my mailing list from another p...   \n",
       "70   Some things to keep in mind when using sections:    \n",
       "165          How can I add a guest author to a post?\\r   \n",
       "\n",
       "                                                Answer  \n",
       "103  Have a list of emails you'd like to import to ...  \n",
       "70   We recommend using sections for publishing new...  \n",
       "165  Have an author you've been collaborating with ...  "
      ]
     },
     "execution_count": 26,
     "metadata": {},
     "output_type": "execute_result"
    }
   ],
   "source": [
    "input_datapath = '../data/Substack_Data.csv'\n",
    "df = pd.read_csv(input_datapath)\n",
    "print(\"Columns: \", df.columns)\n",
    "print(\"Length: \", len(df))\n",
    "df.sample(n=3)"
   ]
  },
  {
   "cell_type": "code",
   "execution_count": 27,
   "metadata": {},
   "outputs": [],
   "source": [
    "def embed(x):\n",
    "    try:\n",
    "        return embedding.embed_text(x)\n",
    "    except:\n",
    "        return 'error:' + str(x)\n",
    "\n",
    "df['embedded_answers'] = df.Answer.apply(lambda x: embed(x))"
   ]
  },
  {
   "cell_type": "code",
   "execution_count": 28,
   "metadata": {},
   "outputs": [
    {
     "name": "stdout",
     "output_type": "stream",
     "text": [
      "374\n"
     ]
    }
   ],
   "source": [
    "to_upsert = []\n",
    "\n",
    "for id, row in df.iterrows():\n",
    "    meta = {'value': row['Answer'], 'question': row['Question']}\n",
    "    if row['Answer'] == '':\n",
    "      continue\n",
    "    to_upsert.append((str(id), row['embedded_answers'], meta))\n",
    "\n",
    "to_upsert = list(filter(lambda x: isinstance(x[2]['value'] , str) and isinstance(x[2]['question'], str), to_upsert))\n",
    "\n",
    "print(len(to_upsert))"
   ]
  },
  {
   "cell_type": "code",
   "execution_count": 31,
   "metadata": {},
   "outputs": [
    {
     "name": "stdout",
     "output_type": "stream",
     "text": [
      "IndexDescription(name='substack-answers', metric='cosine', replicas=1, dimension=1536.0, shards=1, pods=1, pod_type='p1.x1', status={'ready': True, 'state': 'Ready'}, metadata_config=None, source_collection='')\n"
     ]
    }
   ],
   "source": [
    "pinecone.init(\n",
    "    api_key=\"PINECONE_KEY\",\n",
    "    environment=\"DATA\"\n",
    ")\n",
    "\n",
    "index_name = 'substack-answers'\n",
    "\n",
    "if index_name not in pinecone.list_indexes():\n",
    "    pinecone.create_index(index_name, dimension=1536)\n",
    "\n",
    "# connect to index\n",
    "index = pinecone.Index(index_name)\n",
    "# describe pinecone index\n",
    "print(pinecone.describe_index(index_name))"
   ]
  },
  {
   "cell_type": "code",
   "execution_count": 32,
   "metadata": {},
   "outputs": [],
   "source": [
    "\n",
    "def chunks(iterable, batch_size=100):\n",
    "    it = iter(iterable)\n",
    "    chunk = tuple(itertools.islice(it, batch_size))\n",
    "    while chunk:\n",
    "        yield chunk\n",
    "        chunk = tuple(itertools.islice(it, batch_size))\n",
    "\n",
    "# Upsert data with 100 vectors per upsert request\n",
    "for ids_vectors_chunk in chunks(to_upsert, batch_size=100):\n",
    "    \n",
    "    index = pinecone.Index(index_name)\n",
    "    index.describe_index_stats()\n",
    "    try:\n",
    "      index.upsert(vectors=ids_vectors_chunk)  # Assuming `index` defined elsewhere\n",
    "    except Exception as e:\n",
    "      print(e)\n",
    "      print(ids_vectors_chunk[0][2])"
   ]
  }
 ],
 "metadata": {
  "kernelspec": {
   "display_name": "Python 3.10.8 ('venv': venv)",
   "language": "python",
   "name": "python3"
  },
  "language_info": {
   "codemirror_mode": {
    "name": "ipython",
    "version": 3
   },
   "file_extension": ".py",
   "mimetype": "text/x-python",
   "name": "python",
   "nbconvert_exporter": "python",
   "pygments_lexer": "ipython3",
   "version": "3.10.8"
  },
  "orig_nbformat": 4,
  "vscode": {
   "interpreter": {
    "hash": "2e0f5aa643fe3e81f1de3e94f7199d111e83eb966314afd1c68a6300d4473d12"
   }
  }
 },
 "nbformat": 4,
 "nbformat_minor": 2
}
